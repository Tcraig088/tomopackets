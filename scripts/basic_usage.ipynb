{
 "cells": [
  {
   "cell_type": "markdown",
   "metadata": {},
   "source": [
    "# Tomopackets: Standard Usage\n",
    "\n",
    "This variant of tomopacket is different from the standard tomopackets variant used in RECAST3D"
   ]
  },
  {
   "cell_type": "code",
   "execution_count": 2,
   "metadata": {},
   "outputs": [
    {
     "ename": "TypeError",
     "evalue": "__init__(): incompatible constructor arguments. The following argument types are supported:\n    1. py_tomop.cone_vec_geometry_packet(arg0: int, arg1: int, arg2: int, arg3: int, arg4: list[float])\n\nInvoked with: 'data/phantom_256.tif', 'data/phantom_256_cone_vec_geometry_packet.tif'",
     "output_type": "error",
     "traceback": [
      "\u001b[1;31m---------------------------------------------------------------------------\u001b[0m",
      "\u001b[1;31mTypeError\u001b[0m                                 Traceback (most recent call last)",
      "Cell \u001b[1;32mIn[2], line 2\u001b[0m\n\u001b[0;32m      1\u001b[0m \u001b[38;5;28;01mimport\u001b[39;00m \u001b[38;5;21;01mtomop\u001b[39;00m\n\u001b[1;32m----> 2\u001b[0m \u001b[43mtomop\u001b[49m\u001b[38;5;241;43m.\u001b[39;49m\u001b[43mcone_vec_geometry_packet\u001b[49m\u001b[43m(\u001b[49m\u001b[38;5;124;43m'\u001b[39;49m\u001b[38;5;124;43mdata/phantom_256.tif\u001b[39;49m\u001b[38;5;124;43m'\u001b[39;49m\u001b[43m,\u001b[49m\u001b[43m \u001b[49m\u001b[38;5;124;43m'\u001b[39;49m\u001b[38;5;124;43mdata/phantom_256_cone_vec_geometry_packet.tif\u001b[39;49m\u001b[38;5;124;43m'\u001b[39;49m\u001b[43m,\u001b[49m\u001b[43m)\u001b[49m\n",
      "\u001b[1;31mTypeError\u001b[0m: __init__(): incompatible constructor arguments. The following argument types are supported:\n    1. py_tomop.cone_vec_geometry_packet(arg0: int, arg1: int, arg2: int, arg3: int, arg4: list[float])\n\nInvoked with: 'data/phantom_256.tif', 'data/phantom_256_cone_vec_geometry_packet.tif'"
     ]
    }
   ],
   "source": [
    "import tomop\n",
    "tomop.cone_vec_geometry_packet('data/phantom_256.tif', 'data/phantom_256_cone_vec_geometry_packet.tif',)"
   ]
  }
 ],
 "metadata": {
  "kernelspec": {
   "display_name": "tomo-dipster",
   "language": "python",
   "name": "python3"
  },
  "language_info": {
   "codemirror_mode": {
    "name": "ipython",
    "version": 3
   },
   "file_extension": ".py",
   "mimetype": "text/x-python",
   "name": "python",
   "nbconvert_exporter": "python",
   "pygments_lexer": "ipython3",
   "version": "3.11.5"
  }
 },
 "nbformat": 4,
 "nbformat_minor": 2
}
